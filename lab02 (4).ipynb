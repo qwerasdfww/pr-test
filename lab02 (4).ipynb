{
 "cells": [
  {
   "cell_type": "markdown",
   "id": "b255ff74-cfbb-479e-86a3-ce42585e6130",
   "metadata": {},
   "source": [
    "# OOP (2024 Fall) 실습02: 캡슐화 원리가 적용된 방향그래프\n",
    "- 이름: 김동혁\n",
    "- 학번: 20210546\n",
    "\n",
    "여기 홍길동, 99999999 대신 본인의 이름, 학번 작성"
   ]
  },
  {
   "cell_type": "code",
   "execution_count": null,
   "id": "80117438-9f7b-4595-9ef7-70e440a4f394",
   "metadata": {},
   "outputs": [],
   "source": [
    "import javax.imageio.*;\n",
    "\n",
    "var mmgraph = \"\"\"\n",
    "graph LR;\n",
    "    서울 --> 원주 --> 평창 --> 강릉\n",
    "    원주 --> 안동\n",
    "    서울 --> 천안 --> 대전 & 공주\n",
    "    대전 --> 대구 --> 부산\n",
    "    공주 --> 익산 --> 광주 --> 목포\n",
    "    대전 --> 익산 --> 전주 --> 여수\n",
    "\"\"\";\n",
    "\n",
    "display(ImageIO.read(new URL(\"https://mermaid.ink/img/\"+Base64.getEncoder().encodeToString(mmgraph.getBytes()))));"
   ]
  },
  {
   "cell_type": "markdown",
   "id": "9f4fb69d-0d08-4b6e-ba41-9a24f19f9c2c",
   "metadata": {},
   "source": [
    "방향그래프 레코드\n",
    "노드가 String인 인접리스트 표현을 구성요소로 포함하는 레코드의 정의를 캡슐화 원리가 잘 지켜지도록 수정/완성해 보라.\n",
    "\n",
    "adjList는 실습01에서 작성했던 routeMap으로 초기화한다고 보면 된다."
   ]
  },
  {
   "cell_type": "code",
   "execution_count": null,
   "id": "65f2e1ee-ee0d-4658-99b2-42c8b4b23107",
   "metadata": {},
   "outputs": [],
   "source": [
    "record Graph(Map< String, List<String> > adjList) {\n",
    "    // 레코드의 기본 생성자를 사용자가 직접 정의\n",
    "    public Graph(Map< String, List<String> > adjList) {\n",
    "        // 이렇게만 하면 캡슐화 원리가 지켜지지 않음!!! 생성자도 수정 필요  (필수)\n",
    "        Map<String, List<String>> deepCopy = new HashMap<>();\n",
    "        for (Map.Entry<String, List<String>> entry : adjList.entrySet()) {\n",
    "            deepCopy.put(entry.getKey(), List.copyOf(entry.getValue()));\n",
    "        }\n",
    "        this.adjList = Map.copyOf(deepCopy);\n",
    "    }\n",
    "    \n",
    "    // Returns the list of all nodes adjacent from the `orig` node.\n",
    "    // Returns null if `orig` is not a valid node of the graph.\n",
    "    // orig 노드로부터 화살표로 직접 연결된 모든 노드들의 리스트를 리턴한다.\n",
    "    // orig가 그래프의 노드가 아닌 경우는 null을 리턴한다.\n",
    "    public List<String> adjFrom(String orig) {\n",
    "        // 적절한 코드 작성 (필수)\n",
    "        return adjList.getOrDefault(orig, null); \n",
    "    }\n",
    "\n",
    "    // 필수가 아닌 선택사항\n",
    "    public boolean hasPath(String orig, String dest) {\n",
    "        if (!adjList.containsKey(orig)) return false;\n",
    "\n",
    "        // Set to track visited nodes and avoid cycles\n",
    "        Set<String> visited = new HashSet<>();\n",
    "        return dfs(orig, dest, visited);\n",
    "    }    \n",
    "    private boolean dfs(String current, String dest, Set<String> visited) {\n",
    "        // If the destination node is found\n",
    "        if (current.equals(dest)) return true;\n",
    "\n",
    "        // Mark the current node as visited\n",
    "        visited.add(current);\n",
    "\n",
    "        // Traverse all adjacent nodes\n",
    "        List<String> neighbors = adjList.getOrDefault(current, Collections.emptyList());\n",
    "        for (String neighbor : neighbors) {\n",
    "            // If the neighbor hasn't been visited, recursively search it\n",
    "            if (!visited.contains(neighbor)) {\n",
    "                if (dfs(neighbor, dest, visited)) return true;\n",
    "            }\n",
    "        }\n",
    "\n",
    "        // No path found from current to dest\n",
    "        return false;\n",
    "    }\n",
    "}"
   ]
  },
  {
   "cell_type": "markdown",
   "id": "d18bf3af-6900-464d-aade-cd91b049134d",
   "metadata": {},
   "source": [
    "코드에서 어떤 부분을 신경써서 캡슐화 원리가 잘 지켜지도록 작성했는지 되도록 짧게 설명하라. (200자 넘지 않게)\n",
    "여기에 설명을 작성 ...\n",
    "\n",
    "캡슐화 원리를 지키기 위해 Graph 생성자에서 입력된 Map과 리스트들을 깊은 복사하여 외부에서 그래프 구조를 수정할 수 없도록 했습니다. Map.copyOf()와 List.copyOf()를 사용해 불변성을 보장했습니다. 또한, 노드와 경로를 조회하는 메서드들(adjFrom, hasPath)도 입력값을 검증하고 내부 구조에 직접 접근하지 않도록 처리하여 안전성을 강화했습니다."
   ]
  },
  {
   "cell_type": "markdown",
   "id": "e68badce-8116-4aa2-aecd-dcc6d42c0203",
   "metadata": {},
   "source": [
    "그래프 객체 생성 및 활용\n",
    "실습01에서처럼 위의 하행선 철도 노선도를 자바의 Map과 List를 활용한 인접리스트(adjacencty list) 데이터 구조로 옮겨 Graph 레코드의 인스턴스를 생성해 routeGraph 변수에 저장해 보라."
   ]
  },
  {
   "cell_type": "code",
   "execution_count": null,
   "id": "0ac575f2-1d25-4efe-b3fd-f6b0cd7e8b6f",
   "metadata": {},
   "outputs": [],
   "source": [
    "// routeMap은 지난 lab01 내용\n",
    "var routeMap = new HashMap< String, List<String> >() {{ // modifiable map with modifiable values \n",
    "    put(\"서울\", new ArrayList<>(List.of(\"원주\",\"천안\")));\n",
    "    put(\"원주\", new ArrayList<>(List.of(\"평창\",\"안동\")));  put(\"안동\", new ArrayList<>());\n",
    "    put(\"평창\", new ArrayList<>(List.of(\"강릉\")));        put(\"강릉\", new ArrayList<>());\n",
    "    put(\"천안\", new ArrayList<>(List.of(\"대전\",\"공주\")));\n",
    "    put(\"대전\", new ArrayList<>(List.of(\"대구\",\"익산\")));\n",
    "    put(\"대구\", new ArrayList<>(List.of(\"부산\")));        put(\"부산\", new ArrayList<>());\n",
    "    put(\"공주\", new ArrayList<>(List.of(\"익산\")));\n",
    "    put(\"익산\", new ArrayList<>(List.of(\"광주\",\"전주\")));\n",
    "    put(\"광주\", new ArrayList<>(List.of(\"목포\")));        put(\"목포\", new ArrayList<>());\n",
    "    put(\"전주\", new ArrayList<>(List.of(\"여수\")));        put(\"여수\", new ArrayList<>());\n",
    "}};\n",
    "\n",
    "System.out.println(routeMap);"
   ]
  },
  {
   "cell_type": "code",
   "execution_count": null,
   "id": "7aae4f05-5852-48d4-b472-13c7bb26bdb9",
   "metadata": {},
   "outputs": [],
   "source": [
    "var routeGraph = new Graph(routeMap);\n",
    "\n",
    "System.out.println(routeGraph);"
   ]
  },
  {
   "cell_type": "code",
   "execution_count": null,
   "id": "42306e32-db5c-4463-8e32-73830e10943d",
   "metadata": {},
   "outputs": [],
   "source": [
    "System.out.println( routeGraph.adjFrom(\"서울\") );"
   ]
  },
  {
   "cell_type": "code",
   "execution_count": null,
   "id": "7df2e823-4e98-45cd-9781-c78fe119ab28",
   "metadata": {},
   "outputs": [],
   "source": [
    "System.out.println( routeGraph.adjFrom(\"원주\") );"
   ]
  },
  {
   "cell_type": "code",
   "execution_count": null,
   "id": "a6023190-f313-4980-8691-6916531263c9",
   "metadata": {},
   "outputs": [],
   "source": [
    "System.out.println( routeGraph.adjFrom(\"평창\") );"
   ]
  },
  {
   "cell_type": "code",
   "execution_count": null,
   "id": "ec422f93-17c6-4dc6-ac33-8efc9388a466",
   "metadata": {},
   "outputs": [],
   "source": []
  }
 ],
 "metadata": {
  "kernelspec": {
   "display_name": "Java (rjk 2.1.0)",
   "language": "java",
   "name": "rapaio-jupyter-kernel"
  },
  "language_info": {
   "codemirror_mode": "java",
   "file_extension": ".jshell",
   "mimetype": "text/x-java-source",
   "name": "java",
   "nbconvert_exporter": "script",
   "pygments_lexer": "java",
   "version": "22.0.2+9"
  }
 },
 "nbformat": 4,
 "nbformat_minor": 5
}
